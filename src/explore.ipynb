{
    "cells": [
        {
            "cell_type": "markdown",
            "metadata": {},
            "source": [
                "# Explore here"
            ]
        },
        {
            "cell_type": "markdown",
            "metadata": {},
            "source": [
                "Loading the Data into Pandas DataFrames \n",
                "\n",
                "check tables"
            ]
        },
        {
            "cell_type": "code",
            "execution_count": 2,
            "metadata": {},
            "outputs": [
                {
                    "name": "stdout",
                    "output_type": "stream",
                    "text": [
                        "      budget                                             genres  \\\n",
                        "0  237000000  [{\"id\": 28, \"name\": \"Action\"}, {\"id\": 12, \"nam...   \n",
                        "1  300000000  [{\"id\": 12, \"name\": \"Adventure\"}, {\"id\": 14, \"...   \n",
                        "2  245000000  [{\"id\": 28, \"name\": \"Action\"}, {\"id\": 12, \"nam...   \n",
                        "3  250000000  [{\"id\": 28, \"name\": \"Action\"}, {\"id\": 80, \"nam...   \n",
                        "4  260000000  [{\"id\": 28, \"name\": \"Action\"}, {\"id\": 12, \"nam...   \n",
                        "\n",
                        "                                       homepage      id  \\\n",
                        "0                   http://www.avatarmovie.com/   19995   \n",
                        "1  http://disney.go.com/disneypictures/pirates/     285   \n",
                        "2   http://www.sonypictures.com/movies/spectre/  206647   \n",
                        "3            http://www.thedarkknightrises.com/   49026   \n",
                        "4          http://movies.disney.com/john-carter   49529   \n",
                        "\n",
                        "                                            keywords original_language  \\\n",
                        "0  [{\"id\": 1463, \"name\": \"culture clash\"}, {\"id\":...                en   \n",
                        "1  [{\"id\": 270, \"name\": \"ocean\"}, {\"id\": 726, \"na...                en   \n",
                        "2  [{\"id\": 470, \"name\": \"spy\"}, {\"id\": 818, \"name...                en   \n",
                        "3  [{\"id\": 849, \"name\": \"dc comics\"}, {\"id\": 853,...                en   \n",
                        "4  [{\"id\": 818, \"name\": \"based on novel\"}, {\"id\":...                en   \n",
                        "\n",
                        "                             original_title  \\\n",
                        "0                                    Avatar   \n",
                        "1  Pirates of the Caribbean: At World's End   \n",
                        "2                                   Spectre   \n",
                        "3                     The Dark Knight Rises   \n",
                        "4                               John Carter   \n",
                        "\n",
                        "                                            overview  popularity  \\\n",
                        "0  In the 22nd century, a paraplegic Marine is di...  150.437577   \n",
                        "1  Captain Barbossa, long believed to be dead, ha...  139.082615   \n",
                        "2  A cryptic message from Bond’s past sends him o...  107.376788   \n",
                        "3  Following the death of District Attorney Harve...  112.312950   \n",
                        "4  John Carter is a war-weary, former military ca...   43.926995   \n",
                        "\n",
                        "                                production_companies  \\\n",
                        "0  [{\"name\": \"Ingenious Film Partners\", \"id\": 289...   \n",
                        "1  [{\"name\": \"Walt Disney Pictures\", \"id\": 2}, {\"...   \n",
                        "2  [{\"name\": \"Columbia Pictures\", \"id\": 5}, {\"nam...   \n",
                        "3  [{\"name\": \"Legendary Pictures\", \"id\": 923}, {\"...   \n",
                        "4        [{\"name\": \"Walt Disney Pictures\", \"id\": 2}]   \n",
                        "\n",
                        "                                production_countries release_date     revenue  \\\n",
                        "0  [{\"iso_3166_1\": \"US\", \"name\": \"United States o...   2009-12-10  2787965087   \n",
                        "1  [{\"iso_3166_1\": \"US\", \"name\": \"United States o...   2007-05-19   961000000   \n",
                        "2  [{\"iso_3166_1\": \"GB\", \"name\": \"United Kingdom\"...   2015-10-26   880674609   \n",
                        "3  [{\"iso_3166_1\": \"US\", \"name\": \"United States o...   2012-07-16  1084939099   \n",
                        "4  [{\"iso_3166_1\": \"US\", \"name\": \"United States o...   2012-03-07   284139100   \n",
                        "\n",
                        "   runtime                                   spoken_languages    status  \\\n",
                        "0    162.0  [{\"iso_639_1\": \"en\", \"name\": \"English\"}, {\"iso...  Released   \n",
                        "1    169.0           [{\"iso_639_1\": \"en\", \"name\": \"English\"}]  Released   \n",
                        "2    148.0  [{\"iso_639_1\": \"fr\", \"name\": \"Fran\\u00e7ais\"},...  Released   \n",
                        "3    165.0           [{\"iso_639_1\": \"en\", \"name\": \"English\"}]  Released   \n",
                        "4    132.0           [{\"iso_639_1\": \"en\", \"name\": \"English\"}]  Released   \n",
                        "\n",
                        "                                          tagline  \\\n",
                        "0                     Enter the World of Pandora.   \n",
                        "1  At the end of the world, the adventure begins.   \n",
                        "2                           A Plan No One Escapes   \n",
                        "3                                 The Legend Ends   \n",
                        "4            Lost in our world, found in another.   \n",
                        "\n",
                        "                                      title  vote_average  vote_count  \n",
                        "0                                    Avatar           7.2       11800  \n",
                        "1  Pirates of the Caribbean: At World's End           6.9        4500  \n",
                        "2                                   Spectre           6.3        4466  \n",
                        "3                     The Dark Knight Rises           7.6        9106  \n",
                        "4                               John Carter           6.1        2124  \n",
                        "   movie_id                                     title  \\\n",
                        "0     19995                                    Avatar   \n",
                        "1       285  Pirates of the Caribbean: At World's End   \n",
                        "2    206647                                   Spectre   \n",
                        "3     49026                     The Dark Knight Rises   \n",
                        "4     49529                               John Carter   \n",
                        "\n",
                        "                                                cast  \\\n",
                        "0  [{\"cast_id\": 242, \"character\": \"Jake Sully\", \"...   \n",
                        "1  [{\"cast_id\": 4, \"character\": \"Captain Jack Spa...   \n",
                        "2  [{\"cast_id\": 1, \"character\": \"James Bond\", \"cr...   \n",
                        "3  [{\"cast_id\": 2, \"character\": \"Bruce Wayne / Ba...   \n",
                        "4  [{\"cast_id\": 5, \"character\": \"John Carter\", \"c...   \n",
                        "\n",
                        "                                                crew  \n",
                        "0  [{\"credit_id\": \"52fe48009251416c750aca23\", \"de...  \n",
                        "1  [{\"credit_id\": \"52fe4232c3a36847f800b579\", \"de...  \n",
                        "2  [{\"credit_id\": \"54805967c3a36829b5002c41\", \"de...  \n",
                        "3  [{\"credit_id\": \"52fe4781c3a36847f81398c3\", \"de...  \n",
                        "4  [{\"credit_id\": \"52fe479ac3a36847f813eaa3\", \"de...  \n"
                    ]
                }
            ],
            "source": [
                "import pandas as pd \n",
                "\n",
                "movies = pd.read_csv('https://raw.githubusercontent.com/4GeeksAcademy/k-nearest-neighbors-project-tutorial/main/tmdb_5000_movies.csv')\n",
                "credits = pd.read_csv('https://raw.githubusercontent.com/4GeeksAcademy/k-nearest-neighbors-project-tutorial/main/tmdb_5000_credits.csv')\n",
                "\n",
                "print(movies.head(5))\n",
                "print(credits.head(5))"
            ]
        },
        {
            "cell_type": "code",
            "execution_count": 3,
            "metadata": {},
            "outputs": [
                {
                    "data": {
                        "text/plain": [
                            "Index(['budget', 'genres', 'homepage', 'id', 'keywords', 'original_language',\n",
                            "       'original_title', 'overview', 'popularity', 'production_companies',\n",
                            "       'production_countries', 'release_date', 'revenue', 'runtime',\n",
                            "       'spoken_languages', 'status', 'tagline', 'title', 'vote_average',\n",
                            "       'vote_count'],\n",
                            "      dtype='object')"
                        ]
                    },
                    "execution_count": 3,
                    "metadata": {},
                    "output_type": "execute_result"
                }
            ],
            "source": [
                "movies.columns"
            ]
        },
        {
            "cell_type": "code",
            "execution_count": 4,
            "metadata": {},
            "outputs": [
                {
                    "data": {
                        "text/plain": [
                            "Index(['movie_id', 'title', 'cast', 'crew'], dtype='object')"
                        ]
                    },
                    "execution_count": 4,
                    "metadata": {},
                    "output_type": "execute_result"
                }
            ],
            "source": [
                "credits.columns"
            ]
        },
        {
            "cell_type": "markdown",
            "metadata": {},
            "source": [
                "Creating a Database and Storing DataFrames as Tables"
            ]
        },
        {
            "cell_type": "code",
            "execution_count": 5,
            "metadata": {},
            "outputs": [
                {
                    "ename": "ValueError",
                    "evalue": "Table 'movies' already exists.",
                    "output_type": "error",
                    "traceback": [
                        "\u001b[0;31m---------------------------------------------------------------------------\u001b[0m",
                        "\u001b[0;31mValueError\u001b[0m                                Traceback (most recent call last)",
                        "Cell \u001b[0;32mIn[5], line 4\u001b[0m\n\u001b[1;32m      1\u001b[0m \u001b[38;5;28;01mimport\u001b[39;00m \u001b[38;5;21;01msqlite3\u001b[39;00m\n\u001b[1;32m      2\u001b[0m sql_database \u001b[38;5;241m=\u001b[39m sqlite3\u001b[38;5;241m.\u001b[39mconnect(\u001b[38;5;124m'\u001b[39m\u001b[38;5;124mmovies&credits.sqlite\u001b[39m\u001b[38;5;124m'\u001b[39m)\n\u001b[0;32m----> 4\u001b[0m \u001b[43mmovies\u001b[49m\u001b[38;5;241;43m.\u001b[39;49m\u001b[43mto_sql\u001b[49m\u001b[43m(\u001b[49m\u001b[38;5;124;43m'\u001b[39;49m\u001b[38;5;124;43mmovies\u001b[39;49m\u001b[38;5;124;43m'\u001b[39;49m\u001b[43m,\u001b[49m\u001b[43m \u001b[49m\u001b[43msql_database\u001b[49m\u001b[43m,\u001b[49m\u001b[43m \u001b[49m\u001b[43mindex\u001b[49m\u001b[38;5;241;43m=\u001b[39;49m\u001b[38;5;28;43;01mFalse\u001b[39;49;00m\u001b[43m)\u001b[49m\n\u001b[1;32m      5\u001b[0m credits\u001b[38;5;241m.\u001b[39mto_sql(\u001b[38;5;124m'\u001b[39m\u001b[38;5;124mcredits\u001b[39m\u001b[38;5;124m'\u001b[39m, sql_database, index\u001b[38;5;241m=\u001b[39m\u001b[38;5;28;01mFalse\u001b[39;00m)\n",
                        "File \u001b[0;32m~/.local/lib/python3.10/site-packages/pandas/util/_decorators.py:333\u001b[0m, in \u001b[0;36mdeprecate_nonkeyword_arguments.<locals>.decorate.<locals>.wrapper\u001b[0;34m(*args, **kwargs)\u001b[0m\n\u001b[1;32m    327\u001b[0m \u001b[38;5;28;01mif\u001b[39;00m \u001b[38;5;28mlen\u001b[39m(args) \u001b[38;5;241m>\u001b[39m num_allow_args:\n\u001b[1;32m    328\u001b[0m     warnings\u001b[38;5;241m.\u001b[39mwarn(\n\u001b[1;32m    329\u001b[0m         msg\u001b[38;5;241m.\u001b[39mformat(arguments\u001b[38;5;241m=\u001b[39m_format_argument_list(allow_args)),\n\u001b[1;32m    330\u001b[0m         \u001b[38;5;167;01mFutureWarning\u001b[39;00m,\n\u001b[1;32m    331\u001b[0m         stacklevel\u001b[38;5;241m=\u001b[39mfind_stack_level(),\n\u001b[1;32m    332\u001b[0m     )\n\u001b[0;32m--> 333\u001b[0m \u001b[38;5;28;01mreturn\u001b[39;00m \u001b[43mfunc\u001b[49m\u001b[43m(\u001b[49m\u001b[38;5;241;43m*\u001b[39;49m\u001b[43margs\u001b[49m\u001b[43m,\u001b[49m\u001b[43m \u001b[49m\u001b[38;5;241;43m*\u001b[39;49m\u001b[38;5;241;43m*\u001b[39;49m\u001b[43mkwargs\u001b[49m\u001b[43m)\u001b[49m\n",
                        "File \u001b[0;32m~/.local/lib/python3.10/site-packages/pandas/core/generic.py:3084\u001b[0m, in \u001b[0;36mNDFrame.to_sql\u001b[0;34m(self, name, con, schema, if_exists, index, index_label, chunksize, dtype, method)\u001b[0m\n\u001b[1;32m   2886\u001b[0m \u001b[38;5;250m\u001b[39m\u001b[38;5;124;03m\"\"\"\u001b[39;00m\n\u001b[1;32m   2887\u001b[0m \u001b[38;5;124;03mWrite records stored in a DataFrame to a SQL database.\u001b[39;00m\n\u001b[1;32m   2888\u001b[0m \n\u001b[0;32m   (...)\u001b[0m\n\u001b[1;32m   3080\u001b[0m \u001b[38;5;124;03m[(1,), (None,), (2,)]\u001b[39;00m\n\u001b[1;32m   3081\u001b[0m \u001b[38;5;124;03m\"\"\"\u001b[39;00m  \u001b[38;5;66;03m# noqa: E501\u001b[39;00m\n\u001b[1;32m   3082\u001b[0m \u001b[38;5;28;01mfrom\u001b[39;00m \u001b[38;5;21;01mpandas\u001b[39;00m\u001b[38;5;21;01m.\u001b[39;00m\u001b[38;5;21;01mio\u001b[39;00m \u001b[38;5;28;01mimport\u001b[39;00m sql\n\u001b[0;32m-> 3084\u001b[0m \u001b[38;5;28;01mreturn\u001b[39;00m \u001b[43msql\u001b[49m\u001b[38;5;241;43m.\u001b[39;49m\u001b[43mto_sql\u001b[49m\u001b[43m(\u001b[49m\n\u001b[1;32m   3085\u001b[0m \u001b[43m    \u001b[49m\u001b[38;5;28;43mself\u001b[39;49m\u001b[43m,\u001b[49m\n\u001b[1;32m   3086\u001b[0m \u001b[43m    \u001b[49m\u001b[43mname\u001b[49m\u001b[43m,\u001b[49m\n\u001b[1;32m   3087\u001b[0m \u001b[43m    \u001b[49m\u001b[43mcon\u001b[49m\u001b[43m,\u001b[49m\n\u001b[1;32m   3088\u001b[0m \u001b[43m    \u001b[49m\u001b[43mschema\u001b[49m\u001b[38;5;241;43m=\u001b[39;49m\u001b[43mschema\u001b[49m\u001b[43m,\u001b[49m\n\u001b[1;32m   3089\u001b[0m \u001b[43m    \u001b[49m\u001b[43mif_exists\u001b[49m\u001b[38;5;241;43m=\u001b[39;49m\u001b[43mif_exists\u001b[49m\u001b[43m,\u001b[49m\n\u001b[1;32m   3090\u001b[0m \u001b[43m    \u001b[49m\u001b[43mindex\u001b[49m\u001b[38;5;241;43m=\u001b[39;49m\u001b[43mindex\u001b[49m\u001b[43m,\u001b[49m\n\u001b[1;32m   3091\u001b[0m \u001b[43m    \u001b[49m\u001b[43mindex_label\u001b[49m\u001b[38;5;241;43m=\u001b[39;49m\u001b[43mindex_label\u001b[49m\u001b[43m,\u001b[49m\n\u001b[1;32m   3092\u001b[0m \u001b[43m    \u001b[49m\u001b[43mchunksize\u001b[49m\u001b[38;5;241;43m=\u001b[39;49m\u001b[43mchunksize\u001b[49m\u001b[43m,\u001b[49m\n\u001b[1;32m   3093\u001b[0m \u001b[43m    \u001b[49m\u001b[43mdtype\u001b[49m\u001b[38;5;241;43m=\u001b[39;49m\u001b[43mdtype\u001b[49m\u001b[43m,\u001b[49m\n\u001b[1;32m   3094\u001b[0m \u001b[43m    \u001b[49m\u001b[43mmethod\u001b[49m\u001b[38;5;241;43m=\u001b[39;49m\u001b[43mmethod\u001b[49m\u001b[43m,\u001b[49m\n\u001b[1;32m   3095\u001b[0m \u001b[43m\u001b[49m\u001b[43m)\u001b[49m\n",
                        "File \u001b[0;32m~/.local/lib/python3.10/site-packages/pandas/io/sql.py:842\u001b[0m, in \u001b[0;36mto_sql\u001b[0;34m(frame, name, con, schema, if_exists, index, index_label, chunksize, dtype, method, engine, **engine_kwargs)\u001b[0m\n\u001b[1;32m    837\u001b[0m     \u001b[38;5;28;01mraise\u001b[39;00m \u001b[38;5;167;01mNotImplementedError\u001b[39;00m(\n\u001b[1;32m    838\u001b[0m         \u001b[38;5;124m\"\u001b[39m\u001b[38;5;124m'\u001b[39m\u001b[38;5;124mframe\u001b[39m\u001b[38;5;124m'\u001b[39m\u001b[38;5;124m argument should be either a Series or a DataFrame\u001b[39m\u001b[38;5;124m\"\u001b[39m\n\u001b[1;32m    839\u001b[0m     )\n\u001b[1;32m    841\u001b[0m \u001b[38;5;28;01mwith\u001b[39;00m pandasSQL_builder(con, schema\u001b[38;5;241m=\u001b[39mschema, need_transaction\u001b[38;5;241m=\u001b[39m\u001b[38;5;28;01mTrue\u001b[39;00m) \u001b[38;5;28;01mas\u001b[39;00m pandas_sql:\n\u001b[0;32m--> 842\u001b[0m     \u001b[38;5;28;01mreturn\u001b[39;00m \u001b[43mpandas_sql\u001b[49m\u001b[38;5;241;43m.\u001b[39;49m\u001b[43mto_sql\u001b[49m\u001b[43m(\u001b[49m\n\u001b[1;32m    843\u001b[0m \u001b[43m        \u001b[49m\u001b[43mframe\u001b[49m\u001b[43m,\u001b[49m\n\u001b[1;32m    844\u001b[0m \u001b[43m        \u001b[49m\u001b[43mname\u001b[49m\u001b[43m,\u001b[49m\n\u001b[1;32m    845\u001b[0m \u001b[43m        \u001b[49m\u001b[43mif_exists\u001b[49m\u001b[38;5;241;43m=\u001b[39;49m\u001b[43mif_exists\u001b[49m\u001b[43m,\u001b[49m\n\u001b[1;32m    846\u001b[0m \u001b[43m        \u001b[49m\u001b[43mindex\u001b[49m\u001b[38;5;241;43m=\u001b[39;49m\u001b[43mindex\u001b[49m\u001b[43m,\u001b[49m\n\u001b[1;32m    847\u001b[0m \u001b[43m        \u001b[49m\u001b[43mindex_label\u001b[49m\u001b[38;5;241;43m=\u001b[39;49m\u001b[43mindex_label\u001b[49m\u001b[43m,\u001b[49m\n\u001b[1;32m    848\u001b[0m \u001b[43m        \u001b[49m\u001b[43mschema\u001b[49m\u001b[38;5;241;43m=\u001b[39;49m\u001b[43mschema\u001b[49m\u001b[43m,\u001b[49m\n\u001b[1;32m    849\u001b[0m \u001b[43m        \u001b[49m\u001b[43mchunksize\u001b[49m\u001b[38;5;241;43m=\u001b[39;49m\u001b[43mchunksize\u001b[49m\u001b[43m,\u001b[49m\n\u001b[1;32m    850\u001b[0m \u001b[43m        \u001b[49m\u001b[43mdtype\u001b[49m\u001b[38;5;241;43m=\u001b[39;49m\u001b[43mdtype\u001b[49m\u001b[43m,\u001b[49m\n\u001b[1;32m    851\u001b[0m \u001b[43m        \u001b[49m\u001b[43mmethod\u001b[49m\u001b[38;5;241;43m=\u001b[39;49m\u001b[43mmethod\u001b[49m\u001b[43m,\u001b[49m\n\u001b[1;32m    852\u001b[0m \u001b[43m        \u001b[49m\u001b[43mengine\u001b[49m\u001b[38;5;241;43m=\u001b[39;49m\u001b[43mengine\u001b[49m\u001b[43m,\u001b[49m\n\u001b[1;32m    853\u001b[0m \u001b[43m        \u001b[49m\u001b[38;5;241;43m*\u001b[39;49m\u001b[38;5;241;43m*\u001b[39;49m\u001b[43mengine_kwargs\u001b[49m\u001b[43m,\u001b[49m\n\u001b[1;32m    854\u001b[0m \u001b[43m    \u001b[49m\u001b[43m)\u001b[49m\n",
                        "File \u001b[0;32m~/.local/lib/python3.10/site-packages/pandas/io/sql.py:2848\u001b[0m, in \u001b[0;36mSQLiteDatabase.to_sql\u001b[0;34m(self, frame, name, if_exists, index, index_label, schema, chunksize, dtype, method, engine, **engine_kwargs)\u001b[0m\n\u001b[1;32m   2837\u001b[0m             \u001b[38;5;28;01mraise\u001b[39;00m \u001b[38;5;167;01mValueError\u001b[39;00m(\u001b[38;5;124mf\u001b[39m\u001b[38;5;124m\"\u001b[39m\u001b[38;5;132;01m{\u001b[39;00mcol\u001b[38;5;132;01m}\u001b[39;00m\u001b[38;5;124m (\u001b[39m\u001b[38;5;132;01m{\u001b[39;00mmy_type\u001b[38;5;132;01m}\u001b[39;00m\u001b[38;5;124m) not a string\u001b[39m\u001b[38;5;124m\"\u001b[39m)\n\u001b[1;32m   2839\u001b[0m table \u001b[38;5;241m=\u001b[39m SQLiteTable(\n\u001b[1;32m   2840\u001b[0m     name,\n\u001b[1;32m   2841\u001b[0m     \u001b[38;5;28mself\u001b[39m,\n\u001b[0;32m   (...)\u001b[0m\n\u001b[1;32m   2846\u001b[0m     dtype\u001b[38;5;241m=\u001b[39mdtype,\n\u001b[1;32m   2847\u001b[0m )\n\u001b[0;32m-> 2848\u001b[0m \u001b[43mtable\u001b[49m\u001b[38;5;241;43m.\u001b[39;49m\u001b[43mcreate\u001b[49m\u001b[43m(\u001b[49m\u001b[43m)\u001b[49m\n\u001b[1;32m   2849\u001b[0m \u001b[38;5;28;01mreturn\u001b[39;00m table\u001b[38;5;241m.\u001b[39minsert(chunksize, method)\n",
                        "File \u001b[0;32m~/.local/lib/python3.10/site-packages/pandas/io/sql.py:986\u001b[0m, in \u001b[0;36mSQLTable.create\u001b[0;34m(self)\u001b[0m\n\u001b[1;32m    984\u001b[0m \u001b[38;5;28;01mif\u001b[39;00m \u001b[38;5;28mself\u001b[39m\u001b[38;5;241m.\u001b[39mexists():\n\u001b[1;32m    985\u001b[0m     \u001b[38;5;28;01mif\u001b[39;00m \u001b[38;5;28mself\u001b[39m\u001b[38;5;241m.\u001b[39mif_exists \u001b[38;5;241m==\u001b[39m \u001b[38;5;124m\"\u001b[39m\u001b[38;5;124mfail\u001b[39m\u001b[38;5;124m\"\u001b[39m:\n\u001b[0;32m--> 986\u001b[0m         \u001b[38;5;28;01mraise\u001b[39;00m \u001b[38;5;167;01mValueError\u001b[39;00m(\u001b[38;5;124mf\u001b[39m\u001b[38;5;124m\"\u001b[39m\u001b[38;5;124mTable \u001b[39m\u001b[38;5;124m'\u001b[39m\u001b[38;5;132;01m{\u001b[39;00m\u001b[38;5;28mself\u001b[39m\u001b[38;5;241m.\u001b[39mname\u001b[38;5;132;01m}\u001b[39;00m\u001b[38;5;124m'\u001b[39m\u001b[38;5;124m already exists.\u001b[39m\u001b[38;5;124m\"\u001b[39m)\n\u001b[1;32m    987\u001b[0m     \u001b[38;5;28;01mif\u001b[39;00m \u001b[38;5;28mself\u001b[39m\u001b[38;5;241m.\u001b[39mif_exists \u001b[38;5;241m==\u001b[39m \u001b[38;5;124m\"\u001b[39m\u001b[38;5;124mreplace\u001b[39m\u001b[38;5;124m\"\u001b[39m:\n\u001b[1;32m    988\u001b[0m         \u001b[38;5;28mself\u001b[39m\u001b[38;5;241m.\u001b[39mpd_sql\u001b[38;5;241m.\u001b[39mdrop_table(\u001b[38;5;28mself\u001b[39m\u001b[38;5;241m.\u001b[39mname, \u001b[38;5;28mself\u001b[39m\u001b[38;5;241m.\u001b[39mschema)\n",
                        "\u001b[0;31mValueError\u001b[0m: Table 'movies' already exists."
                    ]
                }
            ],
            "source": [
                "import sqlite3\n",
                "sql_database = sqlite3.connect('movies&credits.sqlite')\n",
                "\n",
                "movies.to_sql('movies', sql_database, index=False)\n",
                "credits.to_sql('credits', sql_database, index=False)"
            ]
        },
        {
            "cell_type": "code",
            "execution_count": 36,
            "metadata": {},
            "outputs": [
                {
                    "name": "stdout",
                    "output_type": "stream",
                    "text": [
                        "      budget                                             genres  \\\n",
                        "0  237000000  [{\"id\": 28, \"name\": \"Action\"}, {\"id\": 12, \"nam...   \n",
                        "1  300000000  [{\"id\": 12, \"name\": \"Adventure\"}, {\"id\": 14, \"...   \n",
                        "2  245000000  [{\"id\": 28, \"name\": \"Action\"}, {\"id\": 12, \"nam...   \n",
                        "3  250000000  [{\"id\": 28, \"name\": \"Action\"}, {\"id\": 80, \"nam...   \n",
                        "4  260000000  [{\"id\": 28, \"name\": \"Action\"}, {\"id\": 12, \"nam...   \n",
                        "\n",
                        "                                       homepage      id  \\\n",
                        "0                   http://www.avatarmovie.com/   19995   \n",
                        "1  http://disney.go.com/disneypictures/pirates/     285   \n",
                        "2   http://www.sonypictures.com/movies/spectre/  206647   \n",
                        "3            http://www.thedarkknightrises.com/   49026   \n",
                        "4          http://movies.disney.com/john-carter   49529   \n",
                        "\n",
                        "                                            keywords original_language  \\\n",
                        "0  [{\"id\": 1463, \"name\": \"culture clash\"}, {\"id\":...                en   \n",
                        "1  [{\"id\": 270, \"name\": \"ocean\"}, {\"id\": 726, \"na...                en   \n",
                        "2  [{\"id\": 470, \"name\": \"spy\"}, {\"id\": 818, \"name...                en   \n",
                        "3  [{\"id\": 849, \"name\": \"dc comics\"}, {\"id\": 853,...                en   \n",
                        "4  [{\"id\": 818, \"name\": \"based on novel\"}, {\"id\":...                en   \n",
                        "\n",
                        "                             original_title  \\\n",
                        "0                                    Avatar   \n",
                        "1  Pirates of the Caribbean: At World's End   \n",
                        "2                                   Spectre   \n",
                        "3                     The Dark Knight Rises   \n",
                        "4                               John Carter   \n",
                        "\n",
                        "                                            overview  popularity  \\\n",
                        "0  In the 22nd century, a paraplegic Marine is di...  150.437577   \n",
                        "1  Captain Barbossa, long believed to be dead, ha...  139.082615   \n",
                        "2  A cryptic message from Bond’s past sends him o...  107.376788   \n",
                        "3  Following the death of District Attorney Harve...  112.312950   \n",
                        "4  John Carter is a war-weary, former military ca...   43.926995   \n",
                        "\n",
                        "                                production_companies  ...     revenue runtime  \\\n",
                        "0  [{\"name\": \"Ingenious Film Partners\", \"id\": 289...  ...  2787965087   162.0   \n",
                        "1  [{\"name\": \"Walt Disney Pictures\", \"id\": 2}, {\"...  ...   961000000   169.0   \n",
                        "2  [{\"name\": \"Columbia Pictures\", \"id\": 5}, {\"nam...  ...   880674609   148.0   \n",
                        "3  [{\"name\": \"Legendary Pictures\", \"id\": 923}, {\"...  ...  1084939099   165.0   \n",
                        "4        [{\"name\": \"Walt Disney Pictures\", \"id\": 2}]  ...   284139100   132.0   \n",
                        "\n",
                        "                                    spoken_languages    status  \\\n",
                        "0  [{\"iso_639_1\": \"en\", \"name\": \"English\"}, {\"iso...  Released   \n",
                        "1           [{\"iso_639_1\": \"en\", \"name\": \"English\"}]  Released   \n",
                        "2  [{\"iso_639_1\": \"fr\", \"name\": \"Fran\\u00e7ais\"},...  Released   \n",
                        "3           [{\"iso_639_1\": \"en\", \"name\": \"English\"}]  Released   \n",
                        "4           [{\"iso_639_1\": \"en\", \"name\": \"English\"}]  Released   \n",
                        "\n",
                        "                                          tagline  \\\n",
                        "0                     Enter the World of Pandora.   \n",
                        "1  At the end of the world, the adventure begins.   \n",
                        "2                           A Plan No One Escapes   \n",
                        "3                                 The Legend Ends   \n",
                        "4            Lost in our world, found in another.   \n",
                        "\n",
                        "                                      title vote_average vote_count  \\\n",
                        "0                                    Avatar          7.2      11800   \n",
                        "1  Pirates of the Caribbean: At World's End          6.9       4500   \n",
                        "2                                   Spectre          6.3       4466   \n",
                        "3                     The Dark Knight Rises          7.6       9106   \n",
                        "4                               John Carter          6.1       2124   \n",
                        "\n",
                        "                                                cast  \\\n",
                        "0  [{\"cast_id\": 242, \"character\": \"Jake Sully\", \"...   \n",
                        "1  [{\"cast_id\": 4, \"character\": \"Captain Jack Spa...   \n",
                        "2  [{\"cast_id\": 1, \"character\": \"James Bond\", \"cr...   \n",
                        "3  [{\"cast_id\": 2, \"character\": \"Bruce Wayne / Ba...   \n",
                        "4  [{\"cast_id\": 5, \"character\": \"John Carter\", \"c...   \n",
                        "\n",
                        "                                                crew  \n",
                        "0  [{\"credit_id\": \"52fe48009251416c750aca23\", \"de...  \n",
                        "1  [{\"credit_id\": \"52fe4232c3a36847f800b579\", \"de...  \n",
                        "2  [{\"credit_id\": \"54805967c3a36829b5002c41\", \"de...  \n",
                        "3  [{\"credit_id\": \"52fe4781c3a36847f81398c3\", \"de...  \n",
                        "4  [{\"credit_id\": \"52fe479ac3a36847f813eaa3\", \"de...  \n",
                        "\n",
                        "[5 rows x 22 columns]\n"
                    ]
                }
            ],
            "source": [
                "join_tables = \"\"\"\n",
                "SELECT movies.*, credits.cast, credits.crew\n",
                "FROM movies\n",
                "JOIN credits ON movies.title = credits.title;\n",
                "\"\"\"\n",
                "\n",
                "joined_df = pd.read_sql_query(join_tables, sql_database)\n",
                "\n",
                "print(joined_df.head())"
            ]
        },
        {
            "cell_type": "code",
            "execution_count": 47,
            "metadata": {},
            "outputs": [],
            "source": [
                "gs = joined_df['genres']"
            ]
        },
        {
            "cell_type": "code",
            "execution_count": 50,
            "metadata": {},
            "outputs": [
                {
                    "data": {
                        "text/plain": [
                            "[{'id': 28, 'name': 'Action'},\n",
                            " {'id': 12, 'name': 'Adventure'},\n",
                            " {'id': 14, 'name': 'Fantasy'},\n",
                            " {'id': 878, 'name': 'Science Fiction'}]"
                        ]
                    },
                    "execution_count": 50,
                    "metadata": {},
                    "output_type": "execute_result"
                }
            ],
            "source": [
                "import json\n",
                "json.loads(gs[0])"
            ]
        },
        {
            "cell_type": "code",
            "execution_count": 8,
            "metadata": {},
            "outputs": [],
            "source": [
                "sql_database.commit()"
            ]
        },
        {
            "cell_type": "code",
            "execution_count": null,
            "metadata": {},
            "outputs": [],
            "source": [
                "sql_database.close()"
            ]
        },
        {
            "cell_type": "markdown",
            "metadata": {},
            "source": [
                "CLEANing the JoiNED TABLE TO LEAVE ONLY:\n",
                "\n",
                "movie_id, \n",
                "title, \n",
                "overview, \n",
                "genres, \n",
                "keywords, \n",
                "cast, \n",
                "crew"
            ]
        },
        {
            "cell_type": "code",
            "execution_count": 14,
            "metadata": {},
            "outputs": [],
            "source": [
                "import json\n",
                "\n",
                "def extract_names(json_str):\n",
                "    if json_str and isinstance(json_str, str):\n",
                "        try:\n",
                "            return ', '.join(item['name'] for item in json.loads(json_str))\n",
                "        except json.JSONDecodeError:\n",
                "            return None  # Return None if JSON is malformed\n",
                "    return None  # Return None if json_str is empty or not a string\n",
                "\n",
                "def extract_cast_names(json_str):\n",
                "    if json_str and isinstance(json_str, str):\n",
                "        try:\n",
                "            return ', '.join(item['name'] for item in json.loads(json_str)[:3])\n",
                "        except json.JSONDecodeError:\n",
                "            return None\n",
                "    return None\n",
                "\n",
                "def extract_director_name(json_str):\n",
                "    if json_str and isinstance(json_str, str):\n",
                "        try:\n",
                "            crew = json.loads(json_str)\n",
                "            for item in crew:\n",
                "                if item.get('job') == 'Director':\n",
                "                    return item.get('name')\n",
                "        except json.JSONDecodeError:\n",
                "            return None\n",
                "    return None\n",
                "\n"
            ]
        },
        {
            "cell_type": "code",
            "execution_count": 20,
            "metadata": {},
            "outputs": [
                {
                    "name": "stdout",
                    "output_type": "stream",
                    "text": [
                        "      budget genres                                      homepage      id  \\\n",
                        "0  237000000   None                   http://www.avatarmovie.com/   19995   \n",
                        "1  300000000   None  http://disney.go.com/disneypictures/pirates/     285   \n",
                        "2  245000000   None   http://www.sonypictures.com/movies/spectre/  206647   \n",
                        "3  250000000   None            http://www.thedarkknightrises.com/   49026   \n",
                        "4  260000000   None          http://movies.disney.com/john-carter   49529   \n",
                        "\n",
                        "  keywords original_language                            original_title  \\\n",
                        "0     None                en                                    Avatar   \n",
                        "1     None                en  Pirates of the Caribbean: At World's End   \n",
                        "2     None                en                                   Spectre   \n",
                        "3     None                en                     The Dark Knight Rises   \n",
                        "4     None                en                               John Carter   \n",
                        "\n",
                        "                                            overview  popularity  \\\n",
                        "0  In the 22nd century, a paraplegic Marine is di...  150.437577   \n",
                        "1  Captain Barbossa, long believed to be dead, ha...  139.082615   \n",
                        "2  A cryptic message from Bond’s past sends him o...  107.376788   \n",
                        "3  Following the death of District Attorney Harve...  112.312950   \n",
                        "4  John Carter is a war-weary, former military ca...   43.926995   \n",
                        "\n",
                        "                                production_companies  ... runtime  \\\n",
                        "0  [{\"name\": \"Ingenious Film Partners\", \"id\": 289...  ...   162.0   \n",
                        "1  [{\"name\": \"Walt Disney Pictures\", \"id\": 2}, {\"...  ...   169.0   \n",
                        "2  [{\"name\": \"Columbia Pictures\", \"id\": 5}, {\"nam...  ...   148.0   \n",
                        "3  [{\"name\": \"Legendary Pictures\", \"id\": 923}, {\"...  ...   165.0   \n",
                        "4        [{\"name\": \"Walt Disney Pictures\", \"id\": 2}]  ...   132.0   \n",
                        "\n",
                        "                                    spoken_languages    status  \\\n",
                        "0  [{\"iso_639_1\": \"en\", \"name\": \"English\"}, {\"iso...  Released   \n",
                        "1           [{\"iso_639_1\": \"en\", \"name\": \"English\"}]  Released   \n",
                        "2  [{\"iso_639_1\": \"fr\", \"name\": \"Fran\\u00e7ais\"},...  Released   \n",
                        "3           [{\"iso_639_1\": \"en\", \"name\": \"English\"}]  Released   \n",
                        "4           [{\"iso_639_1\": \"en\", \"name\": \"English\"}]  Released   \n",
                        "\n",
                        "                                          tagline  \\\n",
                        "0                     Enter the World of Pandora.   \n",
                        "1  At the end of the world, the adventure begins.   \n",
                        "2                           A Plan No One Escapes   \n",
                        "3                                 The Legend Ends   \n",
                        "4            Lost in our world, found in another.   \n",
                        "\n",
                        "                                      title vote_average vote_count  cast  \\\n",
                        "0                                    Avatar          7.2      11800  None   \n",
                        "1  Pirates of the Caribbean: At World's End          6.9       4500  None   \n",
                        "2                                   Spectre          6.3       4466  None   \n",
                        "3                     The Dark Knight Rises          7.6       9106  None   \n",
                        "4                               John Carter          6.1       2124  None   \n",
                        "\n",
                        "   crew  tags  \n",
                        "0  None   NaN  \n",
                        "1  None   NaN  \n",
                        "2  None   NaN  \n",
                        "3  None   NaN  \n",
                        "4  None   NaN  \n",
                        "\n",
                        "[5 rows x 23 columns]\n"
                    ]
                }
            ],
            "source": [
                "joined_df['genres'] = joined_df['genres'].apply(extract_names)\n",
                "joined_df['keywords'] = joined_df['keywords'].apply(extract_names)\n",
                "joined_df['cast'] = joined_df['cast'].apply(extract_cast_names)\n",
                "joined_df['crew'] = joined_df['crew'].apply(extract_director_name)\n",
                "\n",
                "print(joined_df.head())"
            ]
        },
        {
            "cell_type": "code",
            "execution_count": 35,
            "metadata": {},
            "outputs": [
                {
                    "name": "stdout",
                    "output_type": "stream",
                    "text": [
                        "0       None\n",
                        "1       None\n",
                        "2       None\n",
                        "3       None\n",
                        "4       None\n",
                        "        ... \n",
                        "4804    None\n",
                        "4805    None\n",
                        "4806    None\n",
                        "4807    None\n",
                        "4808    None\n",
                        "Name: genres, Length: 4809, dtype: object\n"
                    ]
                }
            ],
            "source": [
                "print(joined_df['genres'])"
            ]
        },
        {
            "cell_type": "markdown",
            "metadata": {},
            "source": [
                "remove the spaces between the words and concatenate names to split similar named keywords. Apply this function to the columns genres, cast, crew and keywords."
            ]
        },
        {
            "cell_type": "code",
            "execution_count": 23,
            "metadata": {},
            "outputs": [
                {
                    "name": "stdout",
                    "output_type": "stream",
                    "text": [
                        "      budget genres                                      homepage      id  \\\n",
                        "0  237000000   None                   http://www.avatarmovie.com/   19995   \n",
                        "1  300000000   None  http://disney.go.com/disneypictures/pirates/     285   \n",
                        "2  245000000   None   http://www.sonypictures.com/movies/spectre/  206647   \n",
                        "3  250000000   None            http://www.thedarkknightrises.com/   49026   \n",
                        "4  260000000   None          http://movies.disney.com/john-carter   49529   \n",
                        "\n",
                        "  keywords original_language                            original_title  \\\n",
                        "0     None                en                                    Avatar   \n",
                        "1     None                en  Pirates of the Caribbean: At World's End   \n",
                        "2     None                en                                   Spectre   \n",
                        "3     None                en                     The Dark Knight Rises   \n",
                        "4     None                en                               John Carter   \n",
                        "\n",
                        "                                            overview  popularity  \\\n",
                        "0  In the 22nd century, a paraplegic Marine is di...  150.437577   \n",
                        "1  Captain Barbossa, long believed to be dead, ha...  139.082615   \n",
                        "2  A cryptic message from Bond’s past sends him o...  107.376788   \n",
                        "3  Following the death of District Attorney Harve...  112.312950   \n",
                        "4  John Carter is a war-weary, former military ca...   43.926995   \n",
                        "\n",
                        "                                production_companies  ... runtime  \\\n",
                        "0  [{\"name\": \"Ingenious Film Partners\", \"id\": 289...  ...   162.0   \n",
                        "1  [{\"name\": \"Walt Disney Pictures\", \"id\": 2}, {\"...  ...   169.0   \n",
                        "2  [{\"name\": \"Columbia Pictures\", \"id\": 5}, {\"nam...  ...   148.0   \n",
                        "3  [{\"name\": \"Legendary Pictures\", \"id\": 923}, {\"...  ...   165.0   \n",
                        "4        [{\"name\": \"Walt Disney Pictures\", \"id\": 2}]  ...   132.0   \n",
                        "\n",
                        "                                    spoken_languages    status  \\\n",
                        "0  [{\"iso_639_1\": \"en\", \"name\": \"English\"}, {\"iso...  Released   \n",
                        "1           [{\"iso_639_1\": \"en\", \"name\": \"English\"}]  Released   \n",
                        "2  [{\"iso_639_1\": \"fr\", \"name\": \"Fran\\u00e7ais\"},...  Released   \n",
                        "3           [{\"iso_639_1\": \"en\", \"name\": \"English\"}]  Released   \n",
                        "4           [{\"iso_639_1\": \"en\", \"name\": \"English\"}]  Released   \n",
                        "\n",
                        "                                          tagline  \\\n",
                        "0                     Enter the World of Pandora.   \n",
                        "1  At the end of the world, the adventure begins.   \n",
                        "2                           A Plan No One Escapes   \n",
                        "3                                 The Legend Ends   \n",
                        "4            Lost in our world, found in another.   \n",
                        "\n",
                        "                                      title vote_average vote_count  cast  \\\n",
                        "0                                    Avatar          7.2      11800  None   \n",
                        "1  Pirates of the Caribbean: At World's End          6.9       4500  None   \n",
                        "2                                   Spectre          6.3       4466  None   \n",
                        "3                     The Dark Knight Rises          7.6       9106  None   \n",
                        "4                               John Carter          6.1       2124  None   \n",
                        "\n",
                        "   crew  tags  \n",
                        "0  None   NaN  \n",
                        "1  None   NaN  \n",
                        "2  None   NaN  \n",
                        "3  None   NaN  \n",
                        "4  None   NaN  \n",
                        "\n",
                        "[5 rows x 23 columns]\n"
                    ]
                }
            ],
            "source": [
                "def remove_spaces(s):\n",
                "    if isinstance(s, str):\n",
                "        return ','.join(word.replace(\" \", \"\") for word in s.split(','))\n",
                "    return s\n",
                "\n",
                "print(joined_df.head())"
            ]
        },
        {
            "cell_type": "code",
            "execution_count": 22,
            "metadata": {},
            "outputs": [
                {
                    "name": "stdout",
                    "output_type": "stream",
                    "text": [
                        "     tags\n",
                        "0     NaN\n",
                        "1     NaN\n",
                        "2     NaN\n",
                        "3     NaN\n",
                        "4     NaN\n",
                        "...   ...\n",
                        "4804  NaN\n",
                        "4805  NaN\n",
                        "4806  NaN\n",
                        "4807  NaN\n",
                        "4808  NaN\n",
                        "\n",
                        "[4809 rows x 1 columns]\n"
                    ]
                }
            ],
            "source": [
                "joined_df['tags'] = joined_df['genres'] + ',' + joined_df['cast'] + ',' + joined_df['crew'] + ',' + joined_df['keywords']\n",
                "joined_df['tags'] = joined_df['tags'].str.replace(',', ' ')\n",
                "\n",
                "print(joined_df[['tags']])"
            ]
        },
        {
            "cell_type": "code",
            "execution_count": null,
            "metadata": {},
            "outputs": [],
            "source": []
        },
        {
            "cell_type": "markdown",
            "metadata": {},
            "source": [
                "BUILD A KNN TO CLuSTER SIMILAR CATEGORIES"
            ]
        },
        {
            "cell_type": "markdown",
            "metadata": {},
            "source": [
                "VECTORIZE TO GET FROM TEXT TO NUMERICAL"
            ]
        },
        {
            "cell_type": "code",
            "execution_count": 31,
            "metadata": {},
            "outputs": [
                {
                    "ename": "ValueError",
                    "evalue": "empty vocabulary; perhaps the documents only contain stop words",
                    "output_type": "error",
                    "traceback": [
                        "\u001b[0;31m---------------------------------------------------------------------------\u001b[0m",
                        "\u001b[0;31mValueError\u001b[0m                                Traceback (most recent call last)",
                        "Cell \u001b[0;32mIn[31], line 9\u001b[0m\n\u001b[1;32m      7\u001b[0m \u001b[38;5;66;03m# Proceed with CountVectorizer as before\u001b[39;00m\n\u001b[1;32m      8\u001b[0m count_vectorizer \u001b[38;5;241m=\u001b[39m CountVectorizer(max_features\u001b[38;5;241m=\u001b[39m\u001b[38;5;241m500\u001b[39m)\n\u001b[0;32m----> 9\u001b[0m count_matrix \u001b[38;5;241m=\u001b[39m \u001b[43mcount_vectorizer\u001b[49m\u001b[38;5;241;43m.\u001b[39;49m\u001b[43mfit_transform\u001b[49m\u001b[43m(\u001b[49m\u001b[43mjoined_df\u001b[49m\u001b[43m[\u001b[49m\u001b[38;5;124;43m'\u001b[39;49m\u001b[38;5;124;43mtags\u001b[39;49m\u001b[38;5;124;43m'\u001b[39;49m\u001b[43m]\u001b[49m\u001b[43m)\u001b[49m\n",
                        "File \u001b[0;32m~/.local/lib/python3.10/site-packages/sklearn/base.py:1474\u001b[0m, in \u001b[0;36m_fit_context.<locals>.decorator.<locals>.wrapper\u001b[0;34m(estimator, *args, **kwargs)\u001b[0m\n\u001b[1;32m   1467\u001b[0m     estimator\u001b[38;5;241m.\u001b[39m_validate_params()\n\u001b[1;32m   1469\u001b[0m \u001b[38;5;28;01mwith\u001b[39;00m config_context(\n\u001b[1;32m   1470\u001b[0m     skip_parameter_validation\u001b[38;5;241m=\u001b[39m(\n\u001b[1;32m   1471\u001b[0m         prefer_skip_nested_validation \u001b[38;5;129;01mor\u001b[39;00m global_skip_validation\n\u001b[1;32m   1472\u001b[0m     )\n\u001b[1;32m   1473\u001b[0m ):\n\u001b[0;32m-> 1474\u001b[0m     \u001b[38;5;28;01mreturn\u001b[39;00m \u001b[43mfit_method\u001b[49m\u001b[43m(\u001b[49m\u001b[43mestimator\u001b[49m\u001b[43m,\u001b[49m\u001b[43m \u001b[49m\u001b[38;5;241;43m*\u001b[39;49m\u001b[43margs\u001b[49m\u001b[43m,\u001b[49m\u001b[43m \u001b[49m\u001b[38;5;241;43m*\u001b[39;49m\u001b[38;5;241;43m*\u001b[39;49m\u001b[43mkwargs\u001b[49m\u001b[43m)\u001b[49m\n",
                        "File \u001b[0;32m~/.local/lib/python3.10/site-packages/sklearn/feature_extraction/text.py:1389\u001b[0m, in \u001b[0;36mCountVectorizer.fit_transform\u001b[0;34m(self, raw_documents, y)\u001b[0m\n\u001b[1;32m   1381\u001b[0m             warnings\u001b[38;5;241m.\u001b[39mwarn(\n\u001b[1;32m   1382\u001b[0m                 \u001b[38;5;124m\"\u001b[39m\u001b[38;5;124mUpper case characters found in\u001b[39m\u001b[38;5;124m\"\u001b[39m\n\u001b[1;32m   1383\u001b[0m                 \u001b[38;5;124m\"\u001b[39m\u001b[38;5;124m vocabulary while \u001b[39m\u001b[38;5;124m'\u001b[39m\u001b[38;5;124mlowercase\u001b[39m\u001b[38;5;124m'\u001b[39m\u001b[38;5;124m\"\u001b[39m\n\u001b[1;32m   1384\u001b[0m                 \u001b[38;5;124m\"\u001b[39m\u001b[38;5;124m is True. These entries will not\u001b[39m\u001b[38;5;124m\"\u001b[39m\n\u001b[1;32m   1385\u001b[0m                 \u001b[38;5;124m\"\u001b[39m\u001b[38;5;124m be matched with any documents\u001b[39m\u001b[38;5;124m\"\u001b[39m\n\u001b[1;32m   1386\u001b[0m             )\n\u001b[1;32m   1387\u001b[0m             \u001b[38;5;28;01mbreak\u001b[39;00m\n\u001b[0;32m-> 1389\u001b[0m vocabulary, X \u001b[38;5;241m=\u001b[39m \u001b[38;5;28;43mself\u001b[39;49m\u001b[38;5;241;43m.\u001b[39;49m\u001b[43m_count_vocab\u001b[49m\u001b[43m(\u001b[49m\u001b[43mraw_documents\u001b[49m\u001b[43m,\u001b[49m\u001b[43m \u001b[49m\u001b[38;5;28;43mself\u001b[39;49m\u001b[38;5;241;43m.\u001b[39;49m\u001b[43mfixed_vocabulary_\u001b[49m\u001b[43m)\u001b[49m\n\u001b[1;32m   1391\u001b[0m \u001b[38;5;28;01mif\u001b[39;00m \u001b[38;5;28mself\u001b[39m\u001b[38;5;241m.\u001b[39mbinary:\n\u001b[1;32m   1392\u001b[0m     X\u001b[38;5;241m.\u001b[39mdata\u001b[38;5;241m.\u001b[39mfill(\u001b[38;5;241m1\u001b[39m)\n",
                        "File \u001b[0;32m~/.local/lib/python3.10/site-packages/sklearn/feature_extraction/text.py:1295\u001b[0m, in \u001b[0;36mCountVectorizer._count_vocab\u001b[0;34m(self, raw_documents, fixed_vocab)\u001b[0m\n\u001b[1;32m   1293\u001b[0m     vocabulary \u001b[38;5;241m=\u001b[39m \u001b[38;5;28mdict\u001b[39m(vocabulary)\n\u001b[1;32m   1294\u001b[0m     \u001b[38;5;28;01mif\u001b[39;00m \u001b[38;5;129;01mnot\u001b[39;00m vocabulary:\n\u001b[0;32m-> 1295\u001b[0m         \u001b[38;5;28;01mraise\u001b[39;00m \u001b[38;5;167;01mValueError\u001b[39;00m(\n\u001b[1;32m   1296\u001b[0m             \u001b[38;5;124m\"\u001b[39m\u001b[38;5;124mempty vocabulary; perhaps the documents only contain stop words\u001b[39m\u001b[38;5;124m\"\u001b[39m\n\u001b[1;32m   1297\u001b[0m         )\n\u001b[1;32m   1299\u001b[0m \u001b[38;5;28;01mif\u001b[39;00m indptr[\u001b[38;5;241m-\u001b[39m\u001b[38;5;241m1\u001b[39m] \u001b[38;5;241m>\u001b[39m np\u001b[38;5;241m.\u001b[39miinfo(np\u001b[38;5;241m.\u001b[39mint32)\u001b[38;5;241m.\u001b[39mmax:  \u001b[38;5;66;03m# = 2**31 - 1\u001b[39;00m\n\u001b[1;32m   1300\u001b[0m     \u001b[38;5;28;01mif\u001b[39;00m _IS_32BIT:\n",
                        "\u001b[0;31mValueError\u001b[0m: empty vocabulary; perhaps the documents only contain stop words"
                    ]
                }
            ],
            "source": [
                "from sklearn.feature_extraction.text import CountVectorizer\n",
                "from sklearn.neighbors import NearestNeighbors\n",
                "\n",
                "\n",
                "joined_df['tags'] = joined_df['tags'].fillna('')\n",
                "\n",
                "# Proceed with CountVectorizer as before\n",
                "count_vectorizer = CountVectorizer(stop_words='english',max_features=500)\n",
                "count_matrix = count_vectorizer.fit_transform(joined_df['tags'])\n",
                "\n",
                "\n",
                "\n"
            ]
        },
        {
            "cell_type": "code",
            "execution_count": null,
            "metadata": {},
            "outputs": [],
            "source": [
                "from sklearn"
            ]
        },
        {
            "cell_type": "code",
            "execution_count": null,
            "metadata": {},
            "outputs": [],
            "source": [
                "knn_model = NearestNeighbors(n_neighbors=5, metric='cosine')\n",
                "knn_model.fit(count_matrix)\n",
                "y_pred = "
            ]
        },
        {
            "cell_type": "code",
            "execution_count": null,
            "metadata": {},
            "outputs": [],
            "source": [
                "from sklearn.metrics.pairwise import cosine_similarity\n",
                "\n",
                "similarity = cosine_similarity()"
            ]
        }
    ],
    "metadata": {
        "kernelspec": {
            "display_name": "Python 3.8.13 64-bit ('3.8.13')",
            "language": "python",
            "name": "python3"
        },
        "language_info": {
            "codemirror_mode": {
                "name": "ipython",
                "version": 3
            },
            "file_extension": ".py",
            "mimetype": "text/x-python",
            "name": "python",
            "nbconvert_exporter": "python",
            "pygments_lexer": "ipython3",
            "version": "3.10.12"
        },
        "orig_nbformat": 4,
        "vscode": {
            "interpreter": {
                "hash": "110cc1dee26208153f2972f08a2ad52b6a56238dc66d48e87fb757ef2996db56"
            }
        }
    },
    "nbformat": 4,
    "nbformat_minor": 2
}
